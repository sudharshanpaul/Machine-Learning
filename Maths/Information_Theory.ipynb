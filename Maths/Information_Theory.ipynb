{
  "nbformat": 4,
  "nbformat_minor": 0,
  "metadata": {
    "colab": {
      "provenance": [],
      "authorship_tag": "ABX9TyM+xdyJ0dLg4JpdZNvl3bJi",
      "include_colab_link": true
    },
    "kernelspec": {
      "name": "python3",
      "display_name": "Python 3"
    },
    "language_info": {
      "name": "python"
    }
  },
  "cells": [
    {
      "cell_type": "markdown",
      "metadata": {
        "id": "view-in-github",
        "colab_type": "text"
      },
      "source": [
        "<a href=\"https://colab.research.google.com/github/sudharshanpaul/Machine-Learning/blob/main/Maths/Information_Theory.ipynb\" target=\"_parent\"><img src=\"https://colab.research.google.com/assets/colab-badge.svg\" alt=\"Open In Colab\"/></a>"
      ]
    },
    {
      "cell_type": "markdown",
      "source": [
        "# Information Theory"
      ],
      "metadata": {
        "id": "ICvqI7KJx6nH"
      }
    },
    {
      "cell_type": "markdown",
      "source": [
        "the **self-information** formula is:\n",
        "$$ I(x)=-\\text{log}P(x) $$"
      ],
      "metadata": {
        "id": "xcWSlaTGyjDu"
      }
    },
    {
      "cell_type": "code",
      "source": [
        "import numpy as np\n",
        "import matplotlib.pyplot as plt"
      ],
      "metadata": {
        "id": "Ta6z5gavy9sF"
      },
      "execution_count": null,
      "outputs": []
    },
    {
      "cell_type": "code",
      "execution_count": null,
      "metadata": {
        "id": "n6WiEZ6ZuQT-"
      },
      "outputs": [],
      "source": [
        "def self_info(my_p):\n",
        "  return -1*np.log(my_p)"
      ]
    },
    {
      "cell_type": "code",
      "source": [
        "self_info(1)"
      ],
      "metadata": {
        "colab": {
          "base_uri": "https://localhost:8080/"
        },
        "id": "1rqTdTazy1lZ",
        "outputId": "fa262eb5-46db-4772-9928-9471d1c648ac"
      },
      "execution_count": null,
      "outputs": [
        {
          "output_type": "execute_result",
          "data": {
            "text/plain": [
              "-0.0"
            ]
          },
          "metadata": {},
          "execution_count": 5
        }
      ]
    },
    {
      "cell_type": "code",
      "source": [
        "self_info(0.1)"
      ],
      "metadata": {
        "colab": {
          "base_uri": "https://localhost:8080/"
        },
        "id": "C0UkH0Zly4Bi",
        "outputId": "b2f82b89-adbc-4f26-d543-5f9b57ed594c"
      },
      "execution_count": null,
      "outputs": [
        {
          "output_type": "execute_result",
          "data": {
            "text/plain": [
              "2.3025850929940455"
            ]
          },
          "metadata": {},
          "execution_count": 6
        }
      ]
    },
    {
      "cell_type": "code",
      "source": [
        "self_info(0.01)"
      ],
      "metadata": {
        "colab": {
          "base_uri": "https://localhost:8080/"
        },
        "id": "iilso2pS0RHi",
        "outputId": "485066d7-59f0-4d97-b66b-7b3676638ef6"
      },
      "execution_count": null,
      "outputs": [
        {
          "output_type": "execute_result",
          "data": {
            "text/plain": [
              "4.605170185988091"
            ]
          },
          "metadata": {},
          "execution_count": 7
        }
      ]
    },
    {
      "cell_type": "code",
      "source": [
        "self_info(0.5)"
      ],
      "metadata": {
        "colab": {
          "base_uri": "https://localhost:8080/"
        },
        "id": "4lsb_Llb0T9P",
        "outputId": "0cd8a695-a61d-496e-85b9-4aefe41ad071"
      },
      "execution_count": null,
      "outputs": [
        {
          "output_type": "execute_result",
          "data": {
            "text/plain": [
              "0.6931471805599453"
            ]
          },
          "metadata": {},
          "execution_count": 8
        }
      ]
    },
    {
      "cell_type": "code",
      "source": [
        "self_info(0.5)+self_info(0.5)"
      ],
      "metadata": {
        "colab": {
          "base_uri": "https://localhost:8080/"
        },
        "id": "6LMBZs7i0Xa7",
        "outputId": "21f9d970-2089-4aca-cc0a-ff9737e39325"
      },
      "execution_count": null,
      "outputs": [
        {
          "output_type": "execute_result",
          "data": {
            "text/plain": [
              "1.3862943611198906"
            ]
          },
          "metadata": {},
          "execution_count": 9
        }
      ]
    },
    {
      "cell_type": "markdown",
      "source": [
        "Depending on what logarithm base we use, the units of self-information vary. Most frequently, the units are either:\n",
        "\n",
        "* **nats**:\n",
        "    * Natural logarithm, as above with `np.log()`\n",
        "    * Typical in ML\n",
        "* **bits**:\n",
        "    * Base-2 logarithm\n",
        "    * A.k.a. **shannons**\n",
        "    * Typical in computer science\n",
        "\n",
        "So, the self-information of $P(x) = 0.1$ is ~2.3 nats."
      ],
      "metadata": {
        "id": "PfeQUttz0pf8"
      }
    },
    {
      "cell_type": "markdown",
      "source": [
        "## Shannon and Differential Entropy\n",
        "https://chatgpt.com/c/66f3f22f-c69c-800a-b050-25cb8feb074b\n",
        "\n",
        "To quantify uncertainty about a probability distribution (as opposed to a single event), we can use **Shannon entropy**, which is denoted $H(x)$ or $H(P)$:\n",
        "$$ H(x) = \\mathbb{E}_{\\text{x}\\sim P}[I(x)] \\\\\n",
        "= -\\mathbb{E}_{\\text{x}\\sim P}[\\text{log}P(x)] $$\n",
        "\n",
        "Conveys the expected informational content associated with an event drawn from the distribution:\n",
        "* **Low entropy**:\n",
        "    * Distribution is ~deterministic and outcomes are ~certain\n",
        "    * E.g., weighted coin always lands heads up ($P(1)=1$) (like biased head coin)\n",
        "* **High entropy**:\n",
        "    * Outcomes are uncertain\n",
        "    * Uniform distribution can be highest entropy\n",
        "    * E.g., coin is as likely to be heads as tails ($P(0)=P(1)=0.5$)"
      ],
      "metadata": {
        "id": "2N6S8mqa1xhZ"
      }
    },
    {
      "cell_type": "markdown",
      "source": [
        "For an example, Shannon entropy of the binary random variables(e.g flipping a coin) is:\n",
        "$$ (p-1)\\text{log}(1-p)-p \\text{log}p $$"
      ],
      "metadata": {
        "id": "4Z3pIi_12xWa"
      }
    },
    {
      "cell_type": "code",
      "source": [
        "def binary_entropy(p):\n",
        "  return (p-1)*np.log(1-p)-p*np.log(p)"
      ],
      "metadata": {
        "id": "CcbcElzb0biN"
      },
      "execution_count": null,
      "outputs": []
    },
    {
      "cell_type": "markdown",
      "source": [
        "Will throw `nan` (not a number) with $p=0$ (always tails) or $p=1$ (always heads), but we can get close:"
      ],
      "metadata": {
        "id": "0ITAaFGA3YDE"
      }
    },
    {
      "cell_type": "code",
      "source": [
        "binary_entropy(0.00001)"
      ],
      "metadata": {
        "colab": {
          "base_uri": "https://localhost:8080/"
        },
        "id": "iBSR9m4Q3QtM",
        "outputId": "a137b535-b4a1-46aa-cf59-4607d461db67"
      },
      "execution_count": null,
      "outputs": [
        {
          "output_type": "execute_result",
          "data": {
            "text/plain": [
              "0.00012512920464949012"
            ]
          },
          "metadata": {},
          "execution_count": 14
        }
      ]
    },
    {
      "cell_type": "code",
      "source": [
        "binary_entropy(0.99999)"
      ],
      "metadata": {
        "colab": {
          "base_uri": "https://localhost:8080/"
        },
        "id": "zfWaaLTj3oHH",
        "outputId": "41d7de87-ba15-400c-c54f-5eb5a36bbe49"
      },
      "execution_count": null,
      "outputs": [
        {
          "output_type": "execute_result",
          "data": {
            "text/plain": [
              "0.00012512920464901166"
            ]
          },
          "metadata": {},
          "execution_count": 16
        }
      ]
    },
    {
      "cell_type": "code",
      "source": [
        "binary_entropy(0.9)"
      ],
      "metadata": {
        "colab": {
          "base_uri": "https://localhost:8080/"
        },
        "id": "mZ9SgUmv4Kiq",
        "outputId": "f5498453-bd17-4de9-939a-444f9e94581e"
      },
      "execution_count": null,
      "outputs": [
        {
          "output_type": "execute_result",
          "data": {
            "text/plain": [
              "0.3250829733914482"
            ]
          },
          "metadata": {},
          "execution_count": 17
        }
      ]
    },
    {
      "cell_type": "code",
      "source": [
        "binary_entropy(0.5)   # Binary entropy with probability of 0.5 is the highest one"
      ],
      "metadata": {
        "colab": {
          "base_uri": "https://localhost:8080/"
        },
        "id": "i45NkuRG4V-M",
        "outputId": "03828ffc-5ee5-4565-e6df-c3eabf0fd43d"
      },
      "execution_count": null,
      "outputs": [
        {
          "output_type": "execute_result",
          "data": {
            "text/plain": [
              "0.6931471805599453"
            ]
          },
          "metadata": {},
          "execution_count": 18
        }
      ]
    },
    {
      "cell_type": "code",
      "source": [
        "p = np.linspace(0.001,0.999,1000)"
      ],
      "metadata": {
        "id": "go_hWS394YQ4"
      },
      "execution_count": null,
      "outputs": []
    },
    {
      "cell_type": "code",
      "source": [
        "H = binary_entropy(p)"
      ],
      "metadata": {
        "id": "74EIjVmY5tnX"
      },
      "execution_count": null,
      "outputs": []
    },
    {
      "cell_type": "code",
      "source": [
        "fig, ax = plt.subplots()\n",
        "plt.title(\"Shannon Entropy of Bernoouli trial\")\n",
        "plt.xlabel(\"Probability of success\")\n",
        "plt.ylabel(\"Shannon Entropy\")\n",
        "ax.plot(p,H)"
      ],
      "metadata": {
        "colab": {
          "base_uri": "https://localhost:8080/",
          "height": 489
        },
        "id": "9is71JcI5wB8",
        "outputId": "a5477049-812e-4d1c-8770-c82f6e7f54ef"
      },
      "execution_count": null,
      "outputs": [
        {
          "output_type": "execute_result",
          "data": {
            "text/plain": [
              "[<matplotlib.lines.Line2D at 0x7a2917910460>]"
            ]
          },
          "metadata": {},
          "execution_count": 22
        },
        {
          "output_type": "display_data",
          "data": {
            "text/plain": [
              "<Figure size 640x480 with 1 Axes>"
            ],
            "image/png": "[encoded data removed]"
          },
          "metadata": {}
        }
      ]
    },
    {
      "cell_type": "markdown",
      "source": [
        "**Differential Entropy**: Simply the term of Shannon entropy if the distribution is PDF"
      ],
      "metadata": {
        "id": "Px6V_0zk66GM"
      }
    },
    {
      "cell_type": "markdown",
      "source": [
        "## Kullback-Leibler Divergence\n",
        "**KL divergence** enables us to quantify the relative Shannon (or differential) entropy of two probability distributions that are over the same random variable x.\n",
        "\n",
        "For example, if we have one probability distribution described by $P(x)$ and another by $Q(x)$, their KL divergence (denoted $D_\\text{KL}$) is:\n",
        "$$ D_\\text{KL}(P||Q) = \\mathbb{E}_{\\text{x} \\sim P}[\\text{log}P(x) - \\text{log}Q(x)] $$"
      ],
      "metadata": {
        "id": "ONilo4OI7-mO"
      }
    },
    {
      "cell_type": "markdown",
      "source": [
        "## Cross Entropy\n",
        "Cross-entropy is a concept derived from KL divergence. Its detail is beyond the scope of this series except to mention that it provides us with the **cross-entropy cost** function.\n",
        "\n",
        "This cost function is ubiquitous in neural networks as it's the cost function of choice for predicting discrete, categorical outcomes. E.g., for a binary classifier, the cross-entropy cost ($C$) is:\n",
        "\n",
        "$$ C = -(y \\cdot \\text{log}(\\hat{y}) + (1-y) \\cdot \\text{log}(1-\\hat{y})) $$\n",
        "\n",
        "https://chatgpt.com/c/66f3f61f-7750-800a-8d1c-3311ee6923fd"
      ],
      "metadata": {
        "id": "um8U_GDZ8KnQ"
      }
    },
    {
      "cell_type": "code",
      "source": [
        "def cross_entropy(y,a):   # a is the value of our model estimated\n",
        "  return -1*(y*np.log(a) + (1-y)*np.log(1-a))"
      ],
      "metadata": {
        "id": "28RYg1KI6IW7"
      },
      "execution_count": null,
      "outputs": []
    },
    {
      "cell_type": "code",
      "source": [
        "cross_entropy(1,0.9997)"
      ],
      "metadata": {
        "colab": {
          "base_uri": "https://localhost:8080/"
        },
        "id": "d5_5fxAC_R30",
        "outputId": "747800b0-1b69-4611-bd75-0cf70c131483"
      },
      "execution_count": null,
      "outputs": [
        {
          "output_type": "execute_result",
          "data": {
            "text/plain": [
              "0.00030004500900199243"
            ]
          },
          "metadata": {},
          "execution_count": 30
        }
      ]
    },
    {
      "cell_type": "code",
      "source": [
        "cross_entropy(1,0.9)"
      ],
      "metadata": {
        "colab": {
          "base_uri": "https://localhost:8080/"
        },
        "id": "6TWrpr2U_UeQ",
        "outputId": "bb32028d-090f-409d-bef8-96b5740ebb12"
      },
      "execution_count": null,
      "outputs": [
        {
          "output_type": "execute_result",
          "data": {
            "text/plain": [
              "0.10536051565782628"
            ]
          },
          "metadata": {},
          "execution_count": 31
        }
      ]
    },
    {
      "cell_type": "code",
      "source": [
        "cross_entropy(1,0.6)"
      ],
      "metadata": {
        "colab": {
          "base_uri": "https://localhost:8080/"
        },
        "id": "JlRgYJTJ_v2j",
        "outputId": "3ec69194-8d77-41e1-b2ec-1d93feb2abca"
      },
      "execution_count": null,
      "outputs": [
        {
          "output_type": "execute_result",
          "data": {
            "text/plain": [
              "0.5108256237659907"
            ]
          },
          "metadata": {},
          "execution_count": 32
        }
      ]
    },
    {
      "cell_type": "code",
      "source": [
        "cross_entropy(1,0.3)"
      ],
      "metadata": {
        "colab": {
          "base_uri": "https://localhost:8080/"
        },
        "id": "WUcyvJhq_zeQ",
        "outputId": "3fa74533-0888-48ea-8171-a77d9570b349"
      },
      "execution_count": null,
      "outputs": [
        {
          "output_type": "execute_result",
          "data": {
            "text/plain": [
              "1.2039728043259361"
            ]
          },
          "metadata": {},
          "execution_count": 34
        }
      ]
    },
    {
      "cell_type": "code",
      "source": [],
      "metadata": {
        "id": "FDyVCwIU_3NS"
      },
      "execution_count": null,
      "outputs": []
    }
  ]
}