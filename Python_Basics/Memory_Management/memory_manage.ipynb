{
 "cells": [
  {
   "cell_type": "markdown",
   "metadata": {},
   "source": [
    "## Python Memory Management\n",
    "\n",
    "It involves a combination of automatic garbage collection, reference counting and various internal optimization to efficiently manage memory allocation and deallocation. Understanding these mechanisn can help developers write more efficient and robut applicaions"
   ]
  },
  {
   "cell_type": "markdown",
   "metadata": {},
   "source": [
    "#### Reference Counting \n",
    "it is the primary method Python uses to manage memory. Each object in Python maintains count of references poiting to it. When the references count drop to zero, the mmemory occupied by the object is deallocated"
   ]
  },
  {
   "cell_type": "code",
   "execution_count": 2,
   "metadata": {},
   "outputs": [
    {
     "name": "stdout",
     "output_type": "stream",
     "text": [
      "2\n"
     ]
    }
   ],
   "source": [
    "import sys\n",
    "\n",
    "a = []\n",
    "print(sys.getrefcount(a))\n",
    "# here the output id 2 because one is for the 'a' variable and another is for the getrefcount() "
   ]
  },
  {
   "cell_type": "code",
   "execution_count": 3,
   "metadata": {},
   "outputs": [
    {
     "name": "stdout",
     "output_type": "stream",
     "text": [
      "3\n"
     ]
    }
   ],
   "source": [
    "b = a\n",
    "print(sys.getrefcount(b))"
   ]
  },
  {
   "cell_type": "code",
   "execution_count": 4,
   "metadata": {},
   "outputs": [
    {
     "name": "stdout",
     "output_type": "stream",
     "text": [
      "3\n",
      "2\n"
     ]
    }
   ],
   "source": [
    "print(sys.getrefcount(a))\n",
    "del b\n",
    "print(sys.getrefcount(a))\n"
   ]
  },
  {
   "cell_type": "markdown",
   "metadata": {},
   "source": [
    "#### Garbage Collection\n",
    "Python includes a cyclic garbage collecor to handle reference cycles. Refernce cycles occur when objects reference each other, preventing their reference count from reaching zero\n"
   ]
  },
  {
   "cell_type": "code",
   "execution_count": 5,
   "metadata": {},
   "outputs": [],
   "source": [
    "import gc \n",
    "## enable garbage collection\n",
    "gc.enable()"
   ]
  },
  {
   "cell_type": "code",
   "execution_count": 6,
   "metadata": {},
   "outputs": [],
   "source": [
    "gc.disable()"
   ]
  },
  {
   "cell_type": "code",
   "execution_count": 7,
   "metadata": {},
   "outputs": [
    {
     "data": {
      "text/plain": [
       "31"
      ]
     },
     "execution_count": 7,
     "metadata": {},
     "output_type": "execute_result"
    }
   ],
   "source": [
    "gc.collect()"
   ]
  },
  {
   "cell_type": "code",
   "execution_count": 8,
   "metadata": {},
   "outputs": [
    {
     "name": "stdout",
     "output_type": "stream",
     "text": [
      "[{'collections': 167, 'collected': 1232, 'uncollectable': 0}, {'collections': 15, 'collected': 474, 'uncollectable': 0}, {'collections': 2, 'collected': 31, 'uncollectable': 0}]\n"
     ]
    }
   ],
   "source": [
    "###get garbage collection statistics\n",
    "print(gc.get_stats())"
   ]
  },
  {
   "cell_type": "code",
   "execution_count": 9,
   "metadata": {},
   "outputs": [
    {
     "name": "stdout",
     "output_type": "stream",
     "text": [
      "[]\n"
     ]
    }
   ],
   "source": [
    "### get unreachable objects\n",
    "print(gc.garbage)"
   ]
  },
  {
   "cell_type": "markdown",
   "metadata": {},
   "source": [
    "#### Memory management best practises\n",
    "1.Use Local Variables: Local variables have a shorter lifespan and are freed sooner than global variables.\n",
    "\n",
    "2.Avoid Circular References: Circular references can lead to memory leaks if not properly managed.\n",
    "\n",
    "3.Use Generators: Generators produce items one at a time and only keep one item in memory at a time, making them memory efficient.\n",
    "\n",
    "4.Explicitly Delete Objects: Use the del statement to delete variables and objects explicitly.\n",
    "\n",
    "5.Profile Memory Usage: Use memory profiling tools like tracemalloc and memory_profiler to identify memory leaks and optimize memory usage.\n"
   ]
  },
  {
   "cell_type": "code",
   "execution_count": 10,
   "metadata": {},
   "outputs": [
    {
     "name": "stdout",
     "output_type": "stream",
     "text": [
      "Object obj1 created\n",
      "Object obj2 created\n",
      " Object obj1 deleted\n",
      " Object obj2 deleted\n"
     ]
    },
    {
     "data": {
      "text/plain": [
       "2"
      ]
     },
     "execution_count": 10,
     "metadata": {},
     "output_type": "execute_result"
    }
   ],
   "source": [
    "import gc\n",
    "\n",
    "class MyObject:\n",
    "    def __init__(self,name):\n",
    "        self.name = name\n",
    "        print(f\"Object {self.name} created\")\n",
    "\n",
    "    def __del__(self):\n",
    "        print(f\" Object {self.name} deleted\")\n",
    "\n",
    "## circular reference\n",
    "obj1 = MyObject(\"obj1\")\n",
    "obj2 = MyObject(\"obj2\")\n",
    "obj1.ref = obj2\n",
    "obj2.ref = obj1\n",
    "\n",
    "del obj1\n",
    "del obj2\n",
    "\n",
    "##Here the garbage collection dont work because of circular reference\n",
    "# so we have to do manually\n",
    "\n",
    "gc.collect()"
   ]
  },
  {
   "cell_type": "code",
   "execution_count": 12,
   "metadata": {},
   "outputs": [
    {
     "name": "stdout",
     "output_type": "stream",
     "text": [
      "0\n",
      "1\n",
      "2\n",
      "3\n",
      "4\n",
      "5\n",
      "6\n",
      "7\n",
      "8\n",
      "9\n",
      "10\n",
      "11\n"
     ]
    }
   ],
   "source": [
    "## Generatord for memory efficiency\n",
    "# Generators allows you to produce items one at a time, using memory efficiently by only keeping one item int the  memory\n",
    "\n",
    "def generate_numbers(n):\n",
    "    for i in range(n):\n",
    "        yield i\n",
    "\n",
    "for num in generate_numbers(100000):\n",
    "    print(num)\n",
    "    if num>10:\n",
    "        break"
   ]
  },
  {
   "cell_type": "code",
   "execution_count": null,
   "metadata": {},
   "outputs": [],
   "source": [
    "## Profiling memory usage with tracemalloc\n",
    "import tracemalloc\n",
    "\n",
    "def create_list():\n",
    "    return [ i for i in range(10000)]\n",
    "\n",
    "def main():\n",
    "    tracemalloc.start()\n",
    "\n",
    "    create_list()\n",
    "\n",
    "    snapshot = tracemalloc.take_snapshot()\n",
    "    top_stats = snapshot.statistics('lineno')\n",
    "\n",
    "    print(\"[ Top 10 ]\")\n",
    "    for stat in top_stats[:10]:\n",
    "        print(stat)"
   ]
  },
  {
   "cell_type": "code",
   "execution_count": 14,
   "metadata": {},
   "outputs": [
    {
     "name": "stdout",
     "output_type": "stream",
     "text": [
      "[ Top 10 ]\n",
      "c:\\Users\\Paul\\Desktop\\Learnings\\Machine Learning\\venv\\Lib\\selectors.py:314: size=144 KiB, count=3, average=48.0 KiB\n",
      "c:\\Users\\Paul\\Desktop\\Learnings\\Machine Learning\\venv\\Lib\\site-packages\\zmq\\sugar\\attrsettr.py:45: size=376 B, count=8, average=47 B\n",
      "c:\\Users\\Paul\\Desktop\\Learnings\\Machine Learning\\venv\\Lib\\site-packages\\ipykernel\\iostream.py:121: size=248 B, count=1, average=248 B\n",
      "c:\\Users\\Paul\\Desktop\\Learnings\\Machine Learning\\venv\\Lib\\asyncio\\base_events.py:449: size=144 B, count=1, average=144 B\n",
      "c:\\Users\\Paul\\Desktop\\Learnings\\Machine Learning\\venv\\Lib\\site-packages\\traitlets\\traitlets.py:731: size=131 B, count=2, average=66 B\n",
      "c:\\Users\\Paul\\Desktop\\Learnings\\Machine Learning\\venv\\Lib\\threading.py:348: size=120 B, count=2, average=60 B\n",
      "c:\\Users\\Paul\\Desktop\\Learnings\\Machine Learning\\venv\\Lib\\site-packages\\ipykernel\\iostream.py:287: size=120 B, count=1, average=120 B\n",
      "c:\\Users\\Paul\\Desktop\\Learnings\\Machine Learning\\venv\\Lib\\asyncio\\base_events.py:778: size=120 B, count=1, average=120 B\n",
      "c:\\Users\\Paul\\Desktop\\Learnings\\Machine Learning\\venv\\Lib\\asyncio\\events.py:88: size=72 B, count=1, average=72 B\n",
      "c:\\Users\\Paul\\Desktop\\Learnings\\Machine Learning\\venv\\Lib\\threading.py:652: size=64 B, count=1, average=64 B\n"
     ]
    }
   ],
   "source": [
    "main()"
   ]
  },
  {
   "cell_type": "code",
   "execution_count": null,
   "metadata": {},
   "outputs": [],
   "source": []
  }
 ],
 "metadata": {
  "kernelspec": {
   "display_name": "Python 3",
   "language": "python",
   "name": "python3"
  },
  "language_info": {
   "codemirror_mode": {
    "name": "ipython",
    "version": 3
   },
   "file_extension": ".py",
   "mimetype": "text/x-python",
   "name": "python",
   "nbconvert_exporter": "python",
   "pygments_lexer": "ipython3",
   "version": "3.12.5"
  }
 },
 "nbformat": 4,
 "nbformat_minor": 2
}
